{
 "cells": [
  {
   "cell_type": "markdown",
   "id": "e418e272-627a-41a4-99c5-211c02f9fdfe",
   "metadata": {},
   "source": [
    "# Data Science Tools and Ecosystem"
   ]
  },
  {
   "cell_type": "markdown",
   "id": "a081bfd2-5ecd-43b9-8eb5-f4f9240da07a",
   "metadata": {},
   "source": [
    "Some of the popular languages that Data Scientists use are:"
   ]
  },
  {
   "cell_type": "markdown",
   "id": "6f5d914d-8fbc-4efb-bc43-95a3e5781364",
   "metadata": {
    "tags": []
   },
   "source": [
    "___Objectives:___\n",
    "- List commonly used libraries used by Data Scientist\n",
    "- run simple arithmetic expression\n",
    "- use comments in code cells\n",
    "- use different size headers"
   ]
  },
  {
   "cell_type": "markdown",
   "id": "69cc78b7-54b9-416e-aa4a-890f05ebea77",
   "metadata": {},
   "source": [
    "In this notebook, Data Science Tools and Ecosystem are summarized."
   ]
  },
  {
   "cell_type": "markdown",
   "id": "55baaea3-e956-4a73-9aa2-423e4be1c55c",
   "metadata": {
    "tags": []
   },
   "source": [
    "1. Python\n",
    "2. R\n",
    "3. SQL"
   ]
  },
  {
   "cell_type": "markdown",
   "id": "408301ba-5502-4a3e-883d-900f555ce9d6",
   "metadata": {},
   "source": [
    "Some of the commonly used libraries used by Data Scientists include:"
   ]
  },
  {
   "cell_type": "markdown",
   "id": "a7bc8b66-3a78-4a75-b8fe-e0ee1ce39f88",
   "metadata": {},
   "source": [
    "1. Matplotlib\n",
    "2. Pandas\n",
    "3. Scikit-learn\n",
    "4. ggplot"
   ]
  },
  {
   "cell_type": "markdown",
   "id": "90184f64-5fc5-444c-b3da-4891238d452b",
   "metadata": {},
   "source": [
    "| Data Science Tools |\n",
    "----------------------\n",
    "| MySQL |\n",
    "| github |\n",
    "| Jupyter Notebook |"
   ]
  },
  {
   "cell_type": "markdown",
   "id": "98890ede-bfb1-4a9d-b076-e8e42823623a",
   "metadata": {},
   "source": [
    "### Below are a  few examples of evaluating arithmetic expressions in Python."
   ]
  },
  {
   "cell_type": "code",
   "execution_count": 4,
   "id": "d2df203b-3893-4ef8-a2dd-b86807e9f372",
   "metadata": {
    "tags": []
   },
   "outputs": [
    {
     "data": {
      "text/plain": [
       "17"
      ]
     },
     "execution_count": 4,
     "metadata": {},
     "output_type": "execute_result"
    }
   ],
   "source": [
    "# This is a simple arithmetic expression to multiply then add integers\n",
    "(3*4)+5"
   ]
  },
  {
   "cell_type": "code",
   "execution_count": 10,
   "id": "471aedd4-6e0d-4024-a5e4-555e1d172693",
   "metadata": {
    "tags": []
   },
   "outputs": [
    {
     "name": "stdout",
     "output_type": "stream",
     "text": [
      "200 minutes are equal to 3.3333333333333335 hours\n"
     ]
    }
   ],
   "source": [
    "# This will convert 200 minutes to hours by dividing by 60\n",
    "minutes = 200\n",
    "hours = minutes/60\n",
    "print( minutes, \"minutes are equal to\", hours, \"hours\")"
   ]
  },
  {
   "cell_type": "markdown",
   "id": "35416ea2-d310-4b83-b88b-0c6287458a7f",
   "metadata": {},
   "source": [
    "## Author\n",
    "Krzysztof Janczewski"
   ]
  },
  {
   "cell_type": "code",
   "execution_count": null,
   "id": "6d872802-3188-4533-8489-4e4d153e4d3c",
   "metadata": {},
   "outputs": [],
   "source": []
  }
 ],
 "metadata": {
  "kernelspec": {
   "display_name": "Python",
   "language": "python",
   "name": "conda-env-python-py"
  },
  "language_info": {
   "codemirror_mode": {
    "name": "ipython",
    "version": 3
   },
   "file_extension": ".py",
   "mimetype": "text/x-python",
   "name": "python",
   "nbconvert_exporter": "python",
   "pygments_lexer": "ipython3",
   "version": "3.7.12"
  }
 },
 "nbformat": 4,
 "nbformat_minor": 5
}
